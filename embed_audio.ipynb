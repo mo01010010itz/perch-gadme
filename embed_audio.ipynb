{
 "cells": [
  {
   "cell_type": "markdown",
   "metadata": {
    "id": "o5dNnKRjJlGg"
   },
   "source": [
    "# Embed Audio\n",
    "\n",
    "This notebook provides a single-machine workflow for embedding raw audio files.\n",
    "This notebookis ideal for a single machine with a GPU for accelarated embedding.\n",
    "\n",
    "For parallelized workflow, try `inference/embed.py`, which uses a Beam pipeline.\n"
   ]
  },
  {
   "cell_type": "code",
   "execution_count": 0,
   "metadata": {
    "id": "HnB90FczJkkZ"
   },
   "outputs": [],
   "source": [
    " #@title Imports. { vertical-output: true }\n",
    "from etils import epath\n",
    "from ml_collections import config_dict\n",
    "import numpy as np\n",
    "import tensorflow as tf\n",
    "import tqdm\n",
    "from chirp.inference import colab_utils\n",
    "colab_utils.initialize(use_tf_gpu=True, disable_warnings=True)\n",
    "\n",
    "from chirp import audio_utils\n",
    "from chirp.inference import embed_lib\n",
    "from chirp.inference import tf_examples\n"
   ]
  },
  {
   "cell_type": "code",
   "execution_count": 0,
   "metadata": {
    "id": "aSlVLs_WKOLo"
   },
   "outputs": [],
   "source": [
    "#@title Configuration. { vertical-output: true }\n",
    "\n",
    "# Define the model\n",
    "model_choice = 'perch'  #@param\n",
    "\n",
    "config = config_dict.ConfigDict()\n",
    "config.embed_fn_config = config_dict.ConfigDict()\n",
    "config.embed_fn_config.model_config = config_dict.ConfigDict()\n",
    "\n",
    "# Pick the input and output targets.\n",
    "# source_file_patterns should contain a list of globs of audio files, like:\n",
    "# ['/home/me/*.wav', '/home/me/other/*.flac']\n",
    "config.source_file_patterns = ['']  #@param\n",
    "config.output_dir = '/tmp/embeddings'  #@param\n",
    "\n",
    "# For Perch, the directory containing the model.\n",
    "# Alternatively, set the perch_tfhub_model_version, and the model will load\n",
    "# directly from TFHub.\n",
    "# Note that only one of perch_model_path and perch_tfhub_version should be set.\n",
    "perch_model_path = ''  #@param\n",
    "perch_tfhub_version = 4  #@param\n",
    "\n",
    "# For BirdNET, point to the specific tflite file.\n",
    "birdnet_model_path = ''  #@param\n",
    "if model_choice == 'perch':\n",
    "  config.embed_fn_config.model_key = 'taxonomy_model_tf'\n",
    "  config.embed_fn_config.model_config.window_size_s = 5.0\n",
    "  config.embed_fn_config.model_config.hop_size_s = 5.0\n",
    "  config.embed_fn_config.model_config.sample_rate = 32000\n",
    "  config.embed_fn_config.model_config.tfhub_version = perch_tfhub_version\n",
    "  config.embed_fn_config.model_config.model_path = perch_model_path\n",
    "elif model_choice == 'birdnet':\n",
    "  config.embed_fn_config.model_key = 'birdnet'\n",
    "  config.embed_fn_config.model_config.window_size_s = 3.0\n",
    "  config.embed_fn_config.model_config.hop_size_s = 3.0\n",
    "  config.embed_fn_config.model_config.sample_rate = 48000\n",
    "  config.embed_fn_config.model_config.model_path = birdnet_model_path\n",
    "  # Note: This class list is appropriate for Birdnet 2.1, 2.2, and 2.3\n",
    "  config.embed_fn_config.model_config.class_list_name = 'birdnet_v2_1'\n",
    "  config.embed_fn_config.model_config.num_tflite_threads = 4\n",
    "\n",
    "# Only write embeddings to reduce size.\n",
    "config.embed_fn_config.write_embeddings = True\n",
    "config.embed_fn_config.write_logits = False\n",
    "config.embed_fn_config.write_separated_audio = False\n",
    "config.embed_fn_config.write_raw_audio = False\n",
    "\n",
    "# Number of parent directories to include in the filename.\n",
    "config.embed_fn_config.file_id_depth = 1\n"
   ]
  },
  {
   "cell_type": "code",
   "execution_count": 0,
   "metadata": {
    "id": "WOFaUEbHNash"
   },
   "outputs": [],
   "source": [
    "#@title Set up. { vertical-output: true }\n",
    "\n",
    "# Set up the embedding function, including loading models.\n",
    "embed_fn = embed_lib.EmbedFn(**config.embed_fn_config)\n",
    "print('\\n\\nLoading model(s)...')\n",
    "embed_fn.setup()\n",
    "\n",
    "# Create output directory and write the configuration.\n",
    "output_dir = epath.Path(config.output_dir)\n",
    "output_dir.mkdir(exist_ok=True, parents=True)\n",
    "embed_lib.maybe_write_config(config, output_dir)\n",
    "\n",
    "# Create SourceInfos.\n",
    "source_infos = embed_lib.create_source_infos(\n",
    "    config.source_file_patterns,\n",
    "    num_shards_per_file=config.get('num_shards_per_file', -1),\n",
    "    shard_len_s=config.get('shard_len_s', -1))\n",
    "print(f'Found {len(source_infos)} source infos.')\n",
    "\n",
    "print('\\n\\nTest-run of model...')\n",
    "window_size_s = config.embed_fn_config.model_config.window_size_s\n",
    "sr = config.embed_fn_config.model_config.sample_rate\n",
    "z = np.zeros([int(sr * window_size_s)])\n",
    "embed_fn.embedding_model.embed(z)\n",
    "print('Setup complete!')\n"
   ]
  },
  {
   "cell_type": "code",
   "execution_count": 0,
   "metadata": {
    "id": "5JbRna2tnGj5"
   },
   "outputs": [],
   "source": [
    "#@title Run embedding. { vertical-output: true }\n",
    "\n",
    "# Uses multiple threads to load audio before embedding.\n",
    "# This tends to be faster, but can fail if any audio files are corrupt.\n",
    "\n",
    "embed_fn.min_audio_s = 1.0\n",
    "record_file = (output_dir / 'embeddings.tfrecord').as_posix()\n",
    "succ, fail = 0, 0\n",
    "\n",
    "existing_embedding_ids = embed_lib.get_existing_source_ids(\n",
    "    output_dir, 'embeddings-*')\n",
    "\n",
    "source_infos = embed_lib.get_new_source_infos(\n",
    "    source_infos, existing_embedding_ids, config.embed_fn_config.file_id_depth)\n",
    "\n",
    "print(f'Processing {len(source_infos)} new source infos.')\n",
    "\n",
    "audio_iterator = audio_utils.multi_load_audio_window(\n",
    "    filepaths=[s.filepath for s in source_infos],\n",
    "    offsets=[s.shard_num * s.shard_len_s for s in source_infos],\n",
    "    sample_rate=config.embed_fn_config.model_config.sample_rate,\n",
    "    window_size_s=config.get('shard_len_s', -1.0),\n",
    ")\n",
    "with tf_examples.EmbeddingsTFRecordMultiWriter(\n",
    "    output_dir=output_dir, num_files=config.get('tf_record_shards', 1)) as file_writer:\n",
    "  for source_info, audio in tqdm.tqdm(\n",
    "      zip(source_infos, audio_iterator), total=len(source_infos)):\n",
    "    file_id = source_info.file_id(config.embed_fn_config.file_id_depth)\n",
    "    offset_s = source_info.shard_num * source_info.shard_len_s\n",
    "    example = embed_fn.audio_to_example(file_id, offset_s, audio)\n",
    "    if example is None:\n",
    "      fail += 1\n",
    "      continue\n",
    "    file_writer.write(example.SerializeToString())\n",
    "    succ += 1\n",
    "  file_writer.flush()\n",
    "print(f'\\n\\nSuccessfully processed {succ} source_infos, failed {fail} times.')\n",
    "\n",
    "fns = [fn for fn in output_dir.glob('embeddings-*')]\n",
    "ds = tf.data.TFRecordDataset(fns)\n",
    "parser = tf_examples.get_example_parser()\n",
    "ds = ds.map(parser)\n",
    "for ex in ds.as_numpy_iterator():\n",
    "  print(ex['filename'])\n",
    "  print(ex['embedding'].shape)\n",
    "  break\n"
   ]
  }
 ],
 "metadata": {
  "colab": {
   "private_outputs": true,
   "toc_visible": true
  },
  "kernelspec": {
   "display_name": "Python 3",
   "name": "python3"
  },
  "language_info": {
   "name": "python"
  }
 },
 "nbformat": 4,
 "nbformat_minor": 0
}
